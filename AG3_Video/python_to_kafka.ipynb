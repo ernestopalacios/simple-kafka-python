{
 "cells": [
  {
   "cell_type": "markdown",
   "metadata": {},
   "source": [
    "# Obtener Información desde sitio web"
   ]
  },
  {
   "cell_type": "code",
   "execution_count": 1,
   "metadata": {},
   "outputs": [],
   "source": [
    "\"\"\"\n",
    "\n",
    "Primero utilizaremos la librería `requests` para obtener información de un sitio web\n",
    "\n",
    "\"\"\"\n",
    "\n",
    "import requests\n"
   ]
  },
  {
   "cell_type": "code",
   "execution_count": 19,
   "metadata": {},
   "outputs": [
    {
     "name": "stdout",
     "output_type": "stream",
     "text": [
      "{'latitude': -4.0, 'longitude': -78.875, 'generationtime_ms': 0.0209808349609375, 'utc_offset_seconds': 0, 'timezone': 'GMT', 'timezone_abbreviation': 'GMT', 'elevation': 913.0, 'current_units': {'time': 'iso8601', 'interval': 'seconds', 'temperature_2m': '°C'}, 'current': {'time': '2024-06-19T03:15', 'interval': 900, 'temperature_2m': 21.6}}\n"
     ]
    }
   ],
   "source": [
    "\"\"\"\n",
    "\n",
    "\n",
    "Vamos a buscar información de temperatura, ingresamos las coordenadas que deseamos conocer la temperatura\n",
    "\n",
    "\n",
    "\n",
    "\"\"\"\n",
    "\n",
    "respuesta = requests.get(\"https://api.open-meteo.com/v1/forecast\",\n",
    "                         params = {\"latitude\": -4.06496,\n",
    "                                   \"longitude\": -78.95529,\n",
    "                                   \"current\": \"temperature_2m\"})\n",
    "\n",
    "print(respuesta.json())"
   ]
  },
  {
   "cell_type": "code",
   "execution_count": 20,
   "metadata": {},
   "outputs": [
    {
     "name": "stdout",
     "output_type": "stream",
     "text": [
      "{'current': {'interval': 900,\n",
      "             'temperature_2m': 21.6,\n",
      "             'time': '2024-06-19T03:15'},\n",
      " 'current_units': {'interval': 'seconds',\n",
      "                   'temperature_2m': '°C',\n",
      "                   'time': 'iso8601'},\n",
      " 'elevation': 913.0,\n",
      " 'generationtime_ms': 0.0209808349609375,\n",
      " 'latitude': -4.0,\n",
      " 'longitude': -78.875,\n",
      " 'timezone': 'GMT',\n",
      " 'timezone_abbreviation': 'GMT',\n",
      " 'utc_offset_seconds': 0}\n"
     ]
    }
   ],
   "source": [
    "\"\"\"\n",
    "Formateamos la respuesta JSON para que sea más fácil su visualización\n",
    "\n",
    "\"\"\"\n",
    "\n",
    "from pprint import pprint\n",
    "pprint(respuesta.json())"
   ]
  },
  {
   "cell_type": "markdown",
   "metadata": {},
   "source": [
    "## Crear una objeto de aplicación utilizando la librería QUIX"
   ]
  },
  {
   "cell_type": "code",
   "execution_count": 21,
   "metadata": {},
   "outputs": [],
   "source": [
    "# Crear una nueva aplicación utilizndo Quixstreams\n",
    "\n",
    "from quixstreams import Application\n",
    "\n",
    "app = Application(\n",
    "    broker_address = \"localhost:29092\",\n",
    "    loglevel = \"DEBUG\",\n",
    ")"
   ]
  },
  {
   "cell_type": "code",
   "execution_count": 22,
   "metadata": {},
   "outputs": [],
   "source": [
    "# Prepara la medición para ingestarla en Kafka\n",
    "import json\n",
    "\n",
    "clima = respuesta.json()"
   ]
  },
  {
   "cell_type": "code",
   "execution_count": 24,
   "metadata": {},
   "outputs": [
    {
     "name": "stderr",
     "output_type": "stream",
     "text": [
      "[2024-06-18 22:29:05,381] [INFO] : Topics required for this application: \n",
      "[2024-06-18 22:29:05,383] [DEBUG] : No topics provided for creation...skipping!\n",
      "[2024-06-18 22:29:05,383] [INFO] : Validating Kafka topics exist and are configured correctly...\n",
      "[2024-06-18 22:29:05,386] [INFO] : Kafka topics validation complete\n",
      "[2024-06-18 22:29:05,387] [DEBUG] : Flushing kafka producer\n",
      "[2024-06-18 22:29:05,390] [DEBUG] : Kafka producer flushed\n"
     ]
    }
   ],
   "source": [
    "# Obtener un productor que ingrese datos a Kafka\n",
    "\n",
    "with app.get_producer() as producer:\n",
    "    producer.produce(\n",
    "        topic = \"quix_demo\",\n",
    "        key   = \"Zamora\",\n",
    "        value =  json.dumps(clima)\n",
    "    )"
   ]
  },
  {
   "cell_type": "markdown",
   "metadata": {},
   "source": [
    "## Lo convertimos en función"
   ]
  },
  {
   "cell_type": "code",
   "execution_count": 25,
   "metadata": {},
   "outputs": [],
   "source": [
    "\"\"\" Creamos una función que lee los datos en formato JSON \"\"\"\n",
    "\n",
    "def leer_temperatura():\n",
    "    \n",
    "    respuesta = requests.get(\"https://api.open-meteo.com/v1/forecast\",\n",
    "                            params = {\"latitude\": -4.06496,\n",
    "                                    \"longitude\": -78.95529,\n",
    "                                    \"current\": \"temperature_2m\"})\n",
    "\n",
    "    return respuesta.json()"
   ]
  },
  {
   "cell_type": "code",
   "execution_count": 30,
   "metadata": {},
   "outputs": [
    {
     "name": "stderr",
     "output_type": "stream",
     "text": [
      "[2024-06-18 22:32:02,195] [INFO] : Topics required for this application: \n",
      "[2024-06-18 22:32:02,195] [DEBUG] : No topics provided for creation...skipping!\n",
      "[2024-06-18 22:32:02,196] [INFO] : Validating Kafka topics exist and are configured correctly...\n",
      "[2024-06-18 22:32:02,199] [INFO] : Kafka topics validation complete\n",
      "[2024-06-18 22:32:03,003] [DEBUG] : Flushing kafka producer\n",
      "[2024-06-18 22:32:03,007] [DEBUG] : Kafka producer flushed\n"
     ]
    }
   ],
   "source": [
    "with app.get_producer() as producer:\n",
    "    temperatura = leer_temperatura()\n",
    "    producer.produce(\n",
    "        topic = \"quix_demo\",\n",
    "        key = \"Zamora\",\n",
    "        value =  json.dumps(temperatura)\n",
    "    )"
   ]
  }
 ],
 "metadata": {
  "kernelspec": {
   "display_name": "env",
   "language": "python",
   "name": "python3"
  },
  "language_info": {
   "codemirror_mode": {
    "name": "ipython",
    "version": 3
   },
   "file_extension": ".py",
   "mimetype": "text/x-python",
   "name": "python",
   "nbconvert_exporter": "python",
   "pygments_lexer": "ipython3",
   "version": "3.10.12"
  }
 },
 "nbformat": 4,
 "nbformat_minor": 2
}
